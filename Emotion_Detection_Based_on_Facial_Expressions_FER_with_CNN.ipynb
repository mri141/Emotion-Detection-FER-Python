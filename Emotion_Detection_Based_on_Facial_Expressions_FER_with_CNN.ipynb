{
  "nbformat": 4,
  "nbformat_minor": 0,
  "metadata": {
    "colab": {
      "name": "Emotion Detection Based on Facial Expressions - FER_with_CNN.ipynb",
      "provenance": [],
      "collapsed_sections": []
    },
    "kernelspec": {
      "display_name": "Python 3",
      "name": "python3"
    },
    "language_info": {
      "name": "python"
    }
  },
  "cells": [
    {
      "cell_type": "code",
      "metadata": {
        "id": "fq_0iBoE7tbE"
      },
      "source": [
        "import tensorflow as tf\n",
        "from tensorflow.keras.optimizers import RMSprop"
      ],
      "execution_count": 3,
      "outputs": []
    },
    {
      "cell_type": "code",
      "metadata": {
        "id": "17MZfYc60vrD"
      },
      "source": [
        ""
      ],
      "execution_count": 2,
      "outputs": []
    },
    {
      "cell_type": "code",
      "metadata": {
        "id": "VnPlnmdN8gZu"
      },
      "source": [
        "import numpy as np\n",
        "import matplotlib.pyplot as plt\n",
        "import os\n",
        "import tensorflow_hub as hub\n",
        "import tensorflow_datasets as tfds\n",
        "from tensorflow.keras.preprocessing import image_dataset_from_directory\n",
        "from tensorflow.keras import layers\n",
        "from tensorflow.keras.preprocessing.image import ImageDataGenerator\n",
        "import logging\n",
        "logger = tf.get_logger()\n",
        "logger.setLevel(logging.ERROR)"
      ],
      "execution_count": 4,
      "outputs": []
    },
    {
      "cell_type": "code",
      "metadata": {
        "colab": {
          "base_uri": "https://localhost:8080/"
        },
        "id": "Ss6PjYWdB4WT",
        "outputId": "3c4bec21-9722-4450-8ce2-512e2d476b56"
      },
      "source": [
        "from google.colab import drive\n",
        "drive.mount('/content/drive/')"
      ],
      "execution_count": 13,
      "outputs": [
        {
          "output_type": "stream",
          "text": [
            "Mounted at /content/drive/\n"
          ],
          "name": "stdout"
        }
      ]
    },
    {
      "cell_type": "code",
      "metadata": {
        "id": "gLKZc0v3B7aM"
      },
      "source": [
        "BATCH_SIZE = 32  # Number of training examples to process before updating our models variables\n",
        "IMG_SHAPE  = 150  # Our training data consists of images with width of 150 pixels and height of 150 pixels\n",
        "total_train = 10343\n",
        "total_val = 4424\n",
        "\n",
        "#DESIRED_ACCURACY = 0.98\n",
        "\n",
        "class myCallback(tf.keras.callbacks.Callback):\n",
        "    def on_epoch_end(self,epoch,logs={}):\n",
        "        #if(logs.get('accuracy') > DESIRED_ACCURACY):\n",
        "        if logs.get('acc') is not None and logs.get('acc') > 0.98:\n",
        "            print(\"\\nReached 98% accuracy so cencelling training!\")\n",
        "            self.model.stop_training = True\n",
        "\n",
        "callbacks = myCallback()"
      ],
      "execution_count": 5,
      "outputs": []
    },
    {
      "cell_type": "code",
      "metadata": {
        "id": "A3OoKF5XCRWq"
      },
      "source": [
        "train_image_generator = ImageDataGenerator(\n",
        "      rescale = 1./255,\n",
        "\t  rotation_range=40,\n",
        "      width_shift_range=0.2,\n",
        "      height_shift_range=0.2,\n",
        "      shear_range=0.2,\n",
        "      zoom_range=0.2,\n",
        "      horizontal_flip=True,\n",
        "      fill_mode='nearest')\n",
        "\n",
        "validation_image_generator = ImageDataGenerator(\n",
        "      rescale = 1./255,\n",
        "\t  rotation_range=40,\n",
        "      width_shift_range=0.2,\n",
        "      height_shift_range=0.2,\n",
        "      shear_range=0.2,\n",
        "      zoom_range=0.2,\n",
        "      horizontal_flip=True,\n",
        "      fill_mode='nearest')"
      ],
      "execution_count": 6,
      "outputs": []
    },
    {
      "cell_type": "code",
      "metadata": {
        "colab": {
          "base_uri": "https://localhost:8080/"
        },
        "id": "kRln1tyvC54P",
        "outputId": "56f6fd67-f3ab-4ceb-cfb5-f7578696a98f"
      },
      "source": [
        "train_data_gen = train_image_generator.flow_from_directory(batch_size=BATCH_SIZE,\n",
        "                                                           directory='/content/drive/My Drive/CSE498_Rashed_Samina_Hafiz_Tushar/Natural_Face_CNN/train',\n",
        "                                                           target_size=(IMG_SHAPE,IMG_SHAPE), \n",
        "                                                           shuffle=True,\n",
        "                                                           class_mode='binary')"
      ],
      "execution_count": 14,
      "outputs": [
        {
          "output_type": "stream",
          "text": [
            "Found 10343 images belonging to 7 classes.\n"
          ],
          "name": "stdout"
        }
      ]
    },
    {
      "cell_type": "code",
      "metadata": {
        "colab": {
          "base_uri": "https://localhost:8080/"
        },
        "id": "H-bcEdxGFI3e",
        "outputId": "6a222610-4406-4468-cc8e-a3a29ba47cdf"
      },
      "source": [
        "val_data_gen = validation_image_generator.flow_from_directory(batch_size=BATCH_SIZE,\n",
        "                                                              directory='/content/drive/My Drive/CSE498_Rashed_Samina_Hafiz_Tushar/Natural_Face_CNN/test',\n",
        "                                                              shuffle=False,\n",
        "                                                              target_size=(IMG_SHAPE,IMG_SHAPE), \n",
        "                                                              class_mode='binary')"
      ],
      "execution_count": 15,
      "outputs": [
        {
          "output_type": "stream",
          "text": [
            "Found 4424 images belonging to 7 classes.\n"
          ],
          "name": "stdout"
        }
      ]
    },
    {
      "cell_type": "code",
      "metadata": {
        "id": "T1aUfFY9C8Ea"
      },
      "source": [
        "callbacks = myCallback()\n",
        "model = tf.keras.models.Sequential([\n",
        "    tf.keras.layers.Conv2D(16, (3,3), activation='relu', input_shape=(150, 150, 3)),\n",
        "    tf.keras.layers.MaxPool2D(2,2),\n",
        "    \n",
        "    tf.keras.layers.Conv2D(32, (3,3), activation='relu'),\n",
        "    tf.keras.layers.MaxPooling2D(2,2),\n",
        "    \n",
        "    tf.keras.layers.Conv2D(64, (3,3), activation='relu'),\n",
        "    tf.keras.layers.MaxPooling2D(2,2),\n",
        "    \n",
        "    tf.keras.layers.Flatten(),\n",
        "    tf.keras.layers.Dense(512, activation='relu'),\n",
        "    tf.keras.layers.Dense(7, activation='sigmoid')\n",
        "])\n",
        "model.compile(optimizer=RMSprop(lr=0.001), loss='binary_crossentropy', metrics=['acc'])"
      ],
      "execution_count": 7,
      "outputs": []
    },
    {
      "cell_type": "code",
      "metadata": {
        "colab": {
          "base_uri": "https://localhost:8080/"
        },
        "id": "K0-6zp5_DHLJ",
        "outputId": "407ada20-3c61-4ec4-eb4e-bf744d3b7b13"
      },
      "source": [
        "model.summary()"
      ],
      "execution_count": 16,
      "outputs": [
        {
          "output_type": "stream",
          "text": [
            "Model: \"sequential\"\n",
            "_________________________________________________________________\n",
            "Layer (type)                 Output Shape              Param #   \n",
            "=================================================================\n",
            "conv2d (Conv2D)              (None, 148, 148, 16)      448       \n",
            "_________________________________________________________________\n",
            "max_pooling2d (MaxPooling2D) (None, 74, 74, 16)        0         \n",
            "_________________________________________________________________\n",
            "conv2d_1 (Conv2D)            (None, 72, 72, 32)        4640      \n",
            "_________________________________________________________________\n",
            "max_pooling2d_1 (MaxPooling2 (None, 36, 36, 32)        0         \n",
            "_________________________________________________________________\n",
            "conv2d_2 (Conv2D)            (None, 34, 34, 64)        18496     \n",
            "_________________________________________________________________\n",
            "max_pooling2d_2 (MaxPooling2 (None, 17, 17, 64)        0         \n",
            "_________________________________________________________________\n",
            "flatten (Flatten)            (None, 18496)             0         \n",
            "_________________________________________________________________\n",
            "dense (Dense)                (None, 512)               9470464   \n",
            "_________________________________________________________________\n",
            "dense_1 (Dense)              (None, 7)                 3591      \n",
            "=================================================================\n",
            "Total params: 9,497,639\n",
            "Trainable params: 9,497,639\n",
            "Non-trainable params: 0\n",
            "_________________________________________________________________\n"
          ],
          "name": "stdout"
        }
      ]
    },
    {
      "cell_type": "code",
      "metadata": {
        "id": "s4z-xoYmDJKc"
      },
      "source": [
        "from keras import backend as K\n",
        "\n",
        "def precision_m(y_true, y_pred):\n",
        "    true_positives = K.sum(K.round(K.clip(y_true * y_pred, 0, 1)))\n",
        "    predicted_positives = K.sum(K.round(K.clip(y_pred, 0, 1)))\n",
        "    precision = true_positives / (predicted_positives + K.epsilon())\n",
        "    return precision"
      ],
      "execution_count": 8,
      "outputs": []
    },
    {
      "cell_type": "code",
      "metadata": {
        "id": "IM2BuHpnDPEj"
      },
      "source": [
        "model.compile(\n",
        "  optimizer='adam',\n",
        "  loss=tf.keras.losses.SparseCategoricalCrossentropy(from_logits=True),\n",
        "  metrics=['accuracy',precision_m])"
      ],
      "execution_count": 9,
      "outputs": []
    },
    {
      "cell_type": "code",
      "metadata": {
        "colab": {
          "base_uri": "https://localhost:8080/"
        },
        "id": "GdEH_9uZyw_w",
        "outputId": "c7da6c28-2bb1-481a-8223-36fea0c22a1e"
      },
      "source": [
        "epochs = 10\n",
        "history = model.fit_generator(\n",
        "    train_data_gen,\n",
        "    steps_per_epoch=int(np.ceil(train_data_gen.n / float(BATCH_SIZE))),\n",
        "    epochs=epochs,\n",
        "    validation_data=val_data_gen,\n",
        "    validation_steps=int(np.ceil(val_data_gen.n / float(BATCH_SIZE)))\n",
        ")\n"
      ],
      "execution_count": 14,
      "outputs": [
        {
          "output_type": "stream",
          "text": [
            "/usr/local/lib/python3.7/dist-packages/tensorflow/python/keras/engine/training.py:1844: UserWarning: `Model.fit_generator` is deprecated and will be removed in a future version. Please use `Model.fit`, which supports generators.\n",
            "  warnings.warn('`Model.fit_generator` is deprecated and '\n"
          ],
          "name": "stderr"
        },
        {
          "output_type": "stream",
          "text": [
            "Epoch 1/10\n",
            "324/324 [==============================] - 3557s 11s/step - loss: 1.9505 - accuracy: 0.2273 - precision_m: 1.3587 - val_loss: 1.8463 - val_accuracy: 0.2636 - val_precision_m: 1.5202\n",
            "Epoch 2/10\n",
            "324/324 [==============================] - 317s 977ms/step - loss: 1.8287 - accuracy: 0.2796 - precision_m: 1.4496 - val_loss: 1.7847 - val_accuracy: 0.2862 - val_precision_m: 1.5115\n",
            "Epoch 3/10\n",
            "324/324 [==============================] - 315s 973ms/step - loss: 1.7786 - accuracy: 0.2968 - precision_m: 1.6274 - val_loss: 1.7478 - val_accuracy: 0.3162 - val_precision_m: 1.6606\n",
            "Epoch 4/10\n",
            "324/324 [==============================] - 314s 968ms/step - loss: 1.7251 - accuracy: 0.3153 - precision_m: 1.6420 - val_loss: 1.6547 - val_accuracy: 0.3562 - val_precision_m: 1.6450\n",
            "Epoch 5/10\n",
            "324/324 [==============================] - 311s 961ms/step - loss: 1.6640 - accuracy: 0.3491 - precision_m: 1.6284 - val_loss: 1.6530 - val_accuracy: 0.3526 - val_precision_m: 1.6558\n",
            "Epoch 6/10\n",
            "324/324 [==============================] - 312s 963ms/step - loss: 1.6135 - accuracy: 0.3770 - precision_m: 1.6344 - val_loss: 1.6001 - val_accuracy: 0.3786 - val_precision_m: 1.5439\n",
            "Epoch 7/10\n",
            "324/324 [==============================] - 313s 966ms/step - loss: 1.5595 - accuracy: 0.3957 - precision_m: 1.5996 - val_loss: 1.5782 - val_accuracy: 0.3865 - val_precision_m: 1.5648\n",
            "Epoch 8/10\n",
            "324/324 [==============================] - 314s 969ms/step - loss: 1.5470 - accuracy: 0.3963 - precision_m: 1.5268 - val_loss: 1.5366 - val_accuracy: 0.4014 - val_precision_m: 1.5623\n",
            "Epoch 9/10\n",
            "324/324 [==============================] - 315s 972ms/step - loss: 1.4938 - accuracy: 0.4149 - precision_m: 1.5378 - val_loss: 1.5139 - val_accuracy: 0.4096 - val_precision_m: 1.6356\n",
            "Epoch 10/10\n",
            "324/324 [==============================] - 317s 978ms/step - loss: 1.4832 - accuracy: 0.4194 - precision_m: 1.5418 - val_loss: 1.4968 - val_accuracy: 0.4170 - val_precision_m: 1.6642\n"
          ],
          "name": "stdout"
        }
      ]
    },
    {
      "cell_type": "markdown",
      "metadata": {
        "id": "PSKDjeap1spy"
      },
      "source": [
        "# Until 10th epochs : accuracy is 41.94%\n",
        "# 317s 978ms/step - loss: 1.4832 - accuracy: 0.4194 - precision_m: 1.5418 - val_loss: 1.4968 - val_accuracy: 0.4170 - val_precision_m: 1.6642"
      ]
    },
    {
      "cell_type": "code",
      "metadata": {
        "colab": {
          "base_uri": "https://localhost:8080/"
        },
        "id": "Um1Iu166Wj5l",
        "outputId": "77f3dede-ef53-433b-e26a-c521d13193a9"
      },
      "source": [
        "epochs = 15\n",
        "history = model.fit_generator(\n",
        "    train_data_gen,\n",
        "    steps_per_epoch=int(np.ceil(train_data_gen.n / float(BATCH_SIZE))),\n",
        "    epochs=epochs,\n",
        "    validation_data=val_data_gen,\n",
        "    validation_steps=int(np.ceil(val_data_gen.n / float(BATCH_SIZE)))\n",
        ")\n"
      ],
      "execution_count": 15,
      "outputs": [
        {
          "output_type": "stream",
          "text": [
            "/usr/local/lib/python3.7/dist-packages/tensorflow/python/keras/engine/training.py:1844: UserWarning: `Model.fit_generator` is deprecated and will be removed in a future version. Please use `Model.fit`, which supports generators.\n",
            "  warnings.warn('`Model.fit_generator` is deprecated and '\n"
          ],
          "name": "stderr"
        },
        {
          "output_type": "stream",
          "text": [
            "Epoch 1/15\n",
            "324/324 [==============================] - 324s 1s/step - loss: 1.4711 - accuracy: 0.4388 - precision_m: 1.5467 - val_loss: 1.4708 - val_accuracy: 0.4315 - val_precision_m: 1.6563\n",
            "Epoch 2/15\n",
            "324/324 [==============================] - 323s 996ms/step - loss: 1.4454 - accuracy: 0.4394 - precision_m: 1.5529 - val_loss: 1.4257 - val_accuracy: 0.4433 - val_precision_m: 1.5052\n",
            "Epoch 3/15\n",
            "324/324 [==============================] - 325s 1s/step - loss: 1.4315 - accuracy: 0.4511 - precision_m: 1.5293 - val_loss: 1.4241 - val_accuracy: 0.4464 - val_precision_m: 1.5659\n",
            "Epoch 4/15\n",
            "324/324 [==============================] - 323s 996ms/step - loss: 1.4074 - accuracy: 0.4584 - precision_m: 1.5013 - val_loss: 1.4136 - val_accuracy: 0.4516 - val_precision_m: 1.5055\n",
            "Epoch 5/15\n",
            "324/324 [==============================] - 323s 996ms/step - loss: 1.3981 - accuracy: 0.4635 - precision_m: 1.5053 - val_loss: 1.4044 - val_accuracy: 0.4539 - val_precision_m: 1.5614\n",
            "Epoch 6/15\n",
            "324/324 [==============================] - 318s 982ms/step - loss: 1.3885 - accuracy: 0.4666 - precision_m: 1.4992 - val_loss: 1.3845 - val_accuracy: 0.4693 - val_precision_m: 1.4779\n",
            "Epoch 7/15\n",
            "324/324 [==============================] - 318s 982ms/step - loss: 1.3787 - accuracy: 0.4659 - precision_m: 1.5181 - val_loss: 1.3753 - val_accuracy: 0.4636 - val_precision_m: 1.5377\n",
            "Epoch 8/15\n",
            "324/324 [==============================] - 320s 988ms/step - loss: 1.3586 - accuracy: 0.4794 - precision_m: 1.5242 - val_loss: 1.3498 - val_accuracy: 0.4715 - val_precision_m: 1.5140\n",
            "Epoch 9/15\n",
            "324/324 [==============================] - 320s 988ms/step - loss: 1.3352 - accuracy: 0.4819 - precision_m: 1.5114 - val_loss: 1.3694 - val_accuracy: 0.4686 - val_precision_m: 1.5280\n",
            "Epoch 10/15\n",
            "324/324 [==============================] - 319s 985ms/step - loss: 1.3389 - accuracy: 0.4899 - precision_m: 1.4878 - val_loss: 1.3673 - val_accuracy: 0.4808 - val_precision_m: 1.4951\n",
            "Epoch 11/15\n",
            "324/324 [==============================] - 321s 989ms/step - loss: 1.3093 - accuracy: 0.4990 - precision_m: 1.4874 - val_loss: 1.3531 - val_accuracy: 0.4783 - val_precision_m: 1.5783\n",
            "Epoch 12/15\n",
            "324/324 [==============================] - 319s 985ms/step - loss: 1.3043 - accuracy: 0.5001 - precision_m: 1.4832 - val_loss: 1.3435 - val_accuracy: 0.4869 - val_precision_m: 1.4667\n",
            "Epoch 13/15\n",
            "324/324 [==============================] - 318s 982ms/step - loss: 1.3001 - accuracy: 0.4976 - precision_m: 1.5056 - val_loss: 1.3143 - val_accuracy: 0.4941 - val_precision_m: 1.5556\n",
            "Epoch 14/15\n",
            "324/324 [==============================] - 319s 986ms/step - loss: 1.2896 - accuracy: 0.5090 - precision_m: 1.5025 - val_loss: 1.2957 - val_accuracy: 0.5027 - val_precision_m: 1.4954\n",
            "Epoch 15/15\n",
            "324/324 [==============================] - 321s 989ms/step - loss: 1.2716 - accuracy: 0.5163 - precision_m: 1.4859 - val_loss: 1.3431 - val_accuracy: 0.4817 - val_precision_m: 1.5326\n"
          ],
          "name": "stdout"
        }
      ]
    },
    {
      "cell_type": "markdown",
      "metadata": {
        "id": "2fkjcOgC11bb"
      },
      "source": [
        "# Until 25th epochs : accuracy is 51.63%\n",
        "# 321s 989ms/step - loss: 1.2716 - accuracy: 0.5163 - precision_m: 1.4859 - val_loss: 1.3431 - val_accuracy: 0.4817 - val_precision_m: 1.5326"
      ]
    },
    {
      "cell_type": "code",
      "metadata": {
        "colab": {
          "base_uri": "https://localhost:8080/"
        },
        "id": "Xf7tj-yW_ozx",
        "outputId": "e59e9b23-3c4f-457b-94ce-5a548c114b82"
      },
      "source": [
        "epochs = 20\n",
        "history = model.fit_generator(\n",
        "    train_data_gen,\n",
        "    steps_per_epoch=int(np.ceil(train_data_gen.n / float(BATCH_SIZE))),\n",
        "    epochs=epochs,\n",
        "    validation_data=val_data_gen,\n",
        "    validation_steps=int(np.ceil(val_data_gen.n / float(BATCH_SIZE)))\n",
        ")"
      ],
      "execution_count": 18,
      "outputs": [
        {
          "output_type": "stream",
          "text": [
            "/usr/local/lib/python3.7/dist-packages/tensorflow/python/keras/engine/training.py:1844: UserWarning: `Model.fit_generator` is deprecated and will be removed in a future version. Please use `Model.fit`, which supports generators.\n",
            "  warnings.warn('`Model.fit_generator` is deprecated and '\n"
          ],
          "name": "stderr"
        },
        {
          "output_type": "stream",
          "text": [
            "Epoch 1/20\n",
            "324/324 [==============================] - 322s 992ms/step - loss: 1.1620 - accuracy: 0.5624 - precision_m: 1.4990 - val_loss: 1.2199 - val_accuracy: 0.5398 - val_precision_m: 1.5388\n",
            "Epoch 2/20\n",
            "324/324 [==============================] - 323s 996ms/step - loss: 1.1486 - accuracy: 0.5684 - precision_m: 1.4832 - val_loss: 1.2114 - val_accuracy: 0.5427 - val_precision_m: 1.5276\n",
            "Epoch 3/20\n",
            "324/324 [==============================] - 324s 999ms/step - loss: 1.1474 - accuracy: 0.5706 - precision_m: 1.4889 - val_loss: 1.2364 - val_accuracy: 0.5384 - val_precision_m: 1.5608\n",
            "Epoch 4/20\n",
            "324/324 [==============================] - 324s 1s/step - loss: 1.1377 - accuracy: 0.5757 - precision_m: 1.4844 - val_loss: 1.2046 - val_accuracy: 0.5500 - val_precision_m: 1.5599\n",
            "Epoch 5/20\n",
            "324/324 [==============================] - 328s 1s/step - loss: 1.1490 - accuracy: 0.5671 - precision_m: 1.4963 - val_loss: 1.2183 - val_accuracy: 0.5429 - val_precision_m: 1.5090\n",
            "Epoch 6/20\n",
            "324/324 [==============================] - 331s 1s/step - loss: 1.1302 - accuracy: 0.5747 - precision_m: 1.4902 - val_loss: 1.1705 - val_accuracy: 0.5594 - val_precision_m: 1.5757\n",
            "Epoch 7/20\n",
            "324/324 [==============================] - 328s 1s/step - loss: 1.1301 - accuracy: 0.5784 - precision_m: 1.4994 - val_loss: 1.1945 - val_accuracy: 0.5542 - val_precision_m: 1.5181\n",
            "Epoch 8/20\n",
            "324/324 [==============================] - 327s 1s/step - loss: 1.1245 - accuracy: 0.5749 - precision_m: 1.5004 - val_loss: 1.2180 - val_accuracy: 0.5466 - val_precision_m: 1.4893\n",
            "Epoch 9/20\n",
            "324/324 [==============================] - 326s 1s/step - loss: 1.1288 - accuracy: 0.5769 - precision_m: 1.4873 - val_loss: 1.1685 - val_accuracy: 0.5576 - val_precision_m: 1.5139\n",
            "Epoch 10/20\n",
            "324/324 [==============================] - 323s 997ms/step - loss: 1.1163 - accuracy: 0.5816 - precision_m: 1.4725 - val_loss: 1.2182 - val_accuracy: 0.5443 - val_precision_m: 1.4252\n",
            "Epoch 11/20\n",
            "324/324 [==============================] - 323s 997ms/step - loss: 1.1092 - accuracy: 0.5857 - precision_m: 1.4740 - val_loss: 1.1785 - val_accuracy: 0.5563 - val_precision_m: 1.4637\n",
            "Epoch 12/20\n",
            "324/324 [==============================] - 326s 1s/step - loss: 1.1150 - accuracy: 0.5810 - precision_m: 1.4907 - val_loss: 1.1897 - val_accuracy: 0.5615 - val_precision_m: 1.4971\n",
            "Epoch 13/20\n",
            "324/324 [==============================] - 323s 997ms/step - loss: 1.0988 - accuracy: 0.5865 - precision_m: 1.4780 - val_loss: 1.1809 - val_accuracy: 0.5536 - val_precision_m: 1.5322\n",
            "Epoch 14/20\n",
            "324/324 [==============================] - 323s 997ms/step - loss: 1.0947 - accuracy: 0.5871 - precision_m: 1.4774 - val_loss: 1.1851 - val_accuracy: 0.5542 - val_precision_m: 1.5124\n",
            "Epoch 15/20\n",
            "324/324 [==============================] - 326s 1s/step - loss: 1.0855 - accuracy: 0.5896 - precision_m: 1.4751 - val_loss: 1.1552 - val_accuracy: 0.5694 - val_precision_m: 1.4971\n",
            "Epoch 16/20\n",
            "324/324 [==============================] - 324s 1000ms/step - loss: 1.0919 - accuracy: 0.5901 - precision_m: 1.4855 - val_loss: 1.1558 - val_accuracy: 0.5660 - val_precision_m: 1.4893\n",
            "Epoch 17/20\n",
            "324/324 [==============================] - 323s 997ms/step - loss: 1.0805 - accuracy: 0.5958 - precision_m: 1.4827 - val_loss: 1.1626 - val_accuracy: 0.5658 - val_precision_m: 1.4786\n",
            "Epoch 18/20\n",
            "324/324 [==============================] - 320s 986ms/step - loss: 1.0793 - accuracy: 0.5946 - precision_m: 1.4754 - val_loss: 1.1506 - val_accuracy: 0.5703 - val_precision_m: 1.4920\n",
            "Epoch 19/20\n",
            "324/324 [==============================] - 318s 982ms/step - loss: 1.0611 - accuracy: 0.6096 - precision_m: 1.4604 - val_loss: 1.1709 - val_accuracy: 0.5667 - val_precision_m: 1.5028\n",
            "Epoch 20/20\n",
            "324/324 [==============================] - 321s 989ms/step - loss: 1.0692 - accuracy: 0.6070 - precision_m: 1.4770 - val_loss: 1.1639 - val_accuracy: 0.5615 - val_precision_m: 1.4497\n"
          ],
          "name": "stdout"
        }
      ]
    },
    {
      "cell_type": "markdown",
      "metadata": {
        "id": "3N5y5-hf19Ve"
      },
      "source": [
        "# Until 45th epochs : accuracy is 60.70%\n",
        "# 321s 989ms/step - loss: 1.0692 - accuracy: 0.6070 - precision_m: 1.4770 - val_loss: 1.1639 - val_accuracy: 0.5615 - val_precision_m: 1.4497"
      ]
    },
    {
      "cell_type": "code",
      "metadata": {
        "colab": {
          "base_uri": "https://localhost:8080/"
        },
        "id": "5MHHeWA1p9rF",
        "outputId": "13ba60c6-e182-4750-f435-4e87a438d11d"
      },
      "source": [
        "epochs = 15\n",
        "history = model.fit_generator(\n",
        "    train_data_gen,\n",
        "    steps_per_epoch=int(np.ceil(train_data_gen.n / float(BATCH_SIZE))),\n",
        "    epochs=epochs,\n",
        "    validation_data=val_data_gen,\n",
        "    validation_steps=int(np.ceil(val_data_gen.n / float(BATCH_SIZE)))\n",
        ")"
      ],
      "execution_count": 19,
      "outputs": [
        {
          "output_type": "stream",
          "text": [
            "/usr/local/lib/python3.7/dist-packages/tensorflow/python/keras/engine/training.py:1844: UserWarning: `Model.fit_generator` is deprecated and will be removed in a future version. Please use `Model.fit`, which supports generators.\n",
            "  warnings.warn('`Model.fit_generator` is deprecated and '\n"
          ],
          "name": "stderr"
        },
        {
          "output_type": "stream",
          "text": [
            "Epoch 1/15\n",
            "324/324 [==============================] - 324s 1s/step - loss: 1.0772 - accuracy: 0.5963 - precision_m: 1.4612 - val_loss: 1.1469 - val_accuracy: 0.5649 - val_precision_m: 1.5346\n",
            "Epoch 2/15\n",
            "324/324 [==============================] - 321s 989ms/step - loss: 1.0643 - accuracy: 0.6008 - precision_m: 1.4761 - val_loss: 1.1409 - val_accuracy: 0.5717 - val_precision_m: 1.4327\n",
            "Epoch 3/15\n",
            "324/324 [==============================] - 319s 985ms/step - loss: 1.0619 - accuracy: 0.6043 - precision_m: 1.4722 - val_loss: 1.1497 - val_accuracy: 0.5633 - val_precision_m: 1.4947\n",
            "Epoch 4/15\n",
            "324/324 [==============================] - 319s 984ms/step - loss: 1.0658 - accuracy: 0.6013 - precision_m: 1.4816 - val_loss: 1.1401 - val_accuracy: 0.5737 - val_precision_m: 1.5481\n",
            "Epoch 5/15\n",
            "324/324 [==============================] - 320s 987ms/step - loss: 1.0564 - accuracy: 0.6108 - precision_m: 1.4674 - val_loss: 1.1522 - val_accuracy: 0.5698 - val_precision_m: 1.4617\n",
            "Epoch 6/15\n",
            "324/324 [==============================] - 318s 982ms/step - loss: 1.0628 - accuracy: 0.6087 - precision_m: 1.4694 - val_loss: 1.1415 - val_accuracy: 0.5721 - val_precision_m: 1.5759\n",
            "Epoch 7/15\n",
            "324/324 [==============================] - 323s 997ms/step - loss: 1.0344 - accuracy: 0.6113 - precision_m: 1.5023 - val_loss: 1.1380 - val_accuracy: 0.5721 - val_precision_m: 1.5627\n",
            "Epoch 8/15\n",
            "324/324 [==============================] - 327s 1s/step - loss: 1.0439 - accuracy: 0.6135 - precision_m: 1.4811 - val_loss: 1.1840 - val_accuracy: 0.5669 - val_precision_m: 1.4725\n",
            "Epoch 9/15\n",
            "324/324 [==============================] - 327s 1s/step - loss: 1.0431 - accuracy: 0.6100 - precision_m: 1.4555 - val_loss: 1.1652 - val_accuracy: 0.5708 - val_precision_m: 1.5161\n",
            "Epoch 10/15\n",
            "324/324 [==============================] - 328s 1s/step - loss: 1.0504 - accuracy: 0.6072 - precision_m: 1.4611 - val_loss: 1.1195 - val_accuracy: 0.5909 - val_precision_m: 1.5948\n",
            "Epoch 11/15\n",
            "324/324 [==============================] - 326s 1s/step - loss: 1.0315 - accuracy: 0.6173 - precision_m: 1.4776 - val_loss: 1.1753 - val_accuracy: 0.5759 - val_precision_m: 1.5132\n",
            "Epoch 12/15\n",
            "324/324 [==============================] - 324s 999ms/step - loss: 1.0435 - accuracy: 0.6157 - precision_m: 1.4749 - val_loss: 1.1361 - val_accuracy: 0.5816 - val_precision_m: 1.4971\n",
            "Epoch 13/15\n",
            "324/324 [==============================] - 321s 990ms/step - loss: 1.0338 - accuracy: 0.6115 - precision_m: 1.4634 - val_loss: 1.1384 - val_accuracy: 0.5764 - val_precision_m: 1.5130\n",
            "Epoch 14/15\n",
            "324/324 [==============================] - 324s 998ms/step - loss: 1.0225 - accuracy: 0.6181 - precision_m: 1.4662 - val_loss: 1.1361 - val_accuracy: 0.5710 - val_precision_m: 1.4899\n",
            "Epoch 15/15\n",
            "324/324 [==============================] - 323s 997ms/step - loss: 1.0289 - accuracy: 0.6139 - precision_m: 1.4534 - val_loss: 1.1818 - val_accuracy: 0.5642 - val_precision_m: 1.4233\n"
          ],
          "name": "stdout"
        }
      ]
    },
    {
      "cell_type": "markdown",
      "metadata": {
        "id": "oQalcaS02Bha"
      },
      "source": [
        "# Until 60th epochs : accuracy is 61.39%\n",
        "# 323s 997ms/step - loss: 1.0289 - accuracy: 0.6139 - precision_m: 1.4534 - val_loss: 1.1818 - val_accuracy: 0.5642 - val_precision_m: 1.4233"
      ]
    },
    {
      "cell_type": "code",
      "metadata": {
        "colab": {
          "base_uri": "https://localhost:8080/"
        },
        "id": "iIxq3Wcyu4g9",
        "outputId": "847f10b4-c29a-4e44-b34e-2828f94620d8"
      },
      "source": [
        "epochs = 5\n",
        "history = model.fit_generator(\n",
        "    train_data_gen,\n",
        "    steps_per_epoch=int(np.ceil(train_data_gen.n / float(BATCH_SIZE))),\n",
        "    epochs=epochs,\n",
        "    validation_data=val_data_gen,\n",
        "    validation_steps=int(np.ceil(val_data_gen.n / float(BATCH_SIZE)))\n",
        ")"
      ],
      "execution_count": 20,
      "outputs": [
        {
          "output_type": "stream",
          "text": [
            "/usr/local/lib/python3.7/dist-packages/tensorflow/python/keras/engine/training.py:1844: UserWarning: `Model.fit_generator` is deprecated and will be removed in a future version. Please use `Model.fit`, which supports generators.\n",
            "  warnings.warn('`Model.fit_generator` is deprecated and '\n"
          ],
          "name": "stderr"
        },
        {
          "output_type": "stream",
          "text": [
            "Epoch 1/5\n",
            "324/324 [==============================] - 327s 1s/step - loss: 1.0239 - accuracy: 0.6205 - precision_m: 1.4606 - val_loss: 1.1340 - val_accuracy: 0.5848 - val_precision_m: 1.4831\n",
            "Epoch 2/5\n",
            "324/324 [==============================] - 325s 1s/step - loss: 1.0346 - accuracy: 0.6124 - precision_m: 1.4625 - val_loss: 1.1442 - val_accuracy: 0.5753 - val_precision_m: 1.4643\n",
            "Epoch 3/5\n",
            "324/324 [==============================] - 328s 1s/step - loss: 1.0053 - accuracy: 0.6269 - precision_m: 1.4588 - val_loss: 1.1428 - val_accuracy: 0.5759 - val_precision_m: 1.4956\n",
            "Epoch 4/5\n",
            "324/324 [==============================] - 327s 1s/step - loss: 1.0154 - accuracy: 0.6239 - precision_m: 1.4571 - val_loss: 1.1341 - val_accuracy: 0.5863 - val_precision_m: 1.4905\n",
            "Epoch 5/5\n",
            "324/324 [==============================] - 325s 1s/step - loss: 1.0096 - accuracy: 0.6252 - precision_m: 1.4563 - val_loss: 1.1382 - val_accuracy: 0.5766 - val_precision_m: 1.5466\n"
          ],
          "name": "stdout"
        }
      ]
    },
    {
      "cell_type": "markdown",
      "metadata": {
        "id": "gbPWdmLZ2FQS"
      },
      "source": [
        "# Until 65th epochs : accuracy is 62.52%\n",
        "# 325s 1s/step - loss: 1.0096 - accuracy: 0.6252 - precision_m: 1.4563 - val_loss: 1.1382 - val_accuracy: 0.5766 - val_precision_m: 1.5466"
      ]
    },
    {
      "cell_type": "code",
      "metadata": {
        "colab": {
          "base_uri": "https://localhost:8080/"
        },
        "id": "yUcKx_xRx2pu",
        "outputId": "fb7fc145-60ed-47ac-fe75-ff27e3c8cc53"
      },
      "source": [
        "\n",
        "epochs = 15\n",
        "history = model.fit_generator(\n",
        "    train_data_gen,\n",
        "    steps_per_epoch=int(np.ceil(train_data_gen.n / float(BATCH_SIZE))),\n",
        "    epochs=epochs,\n",
        "    validation_data=val_data_gen,\n",
        "    validation_steps=int(np.ceil(val_data_gen.n / float(BATCH_SIZE)))\n",
        ")"
      ],
      "execution_count": 21,
      "outputs": [
        {
          "output_type": "stream",
          "text": [
            "/usr/local/lib/python3.7/dist-packages/tensorflow/python/keras/engine/training.py:1844: UserWarning: `Model.fit_generator` is deprecated and will be removed in a future version. Please use `Model.fit`, which supports generators.\n",
            "  warnings.warn('`Model.fit_generator` is deprecated and '\n"
          ],
          "name": "stderr"
        },
        {
          "output_type": "stream",
          "text": [
            "Epoch 1/15\n",
            "324/324 [==============================] - 327s 1s/step - loss: 1.0057 - accuracy: 0.6228 - precision_m: 1.4694 - val_loss: 1.2109 - val_accuracy: 0.5676 - val_precision_m: 1.4163\n",
            "Epoch 2/15\n",
            "324/324 [==============================] - 324s 999ms/step - loss: 1.0131 - accuracy: 0.6224 - precision_m: 1.4501 - val_loss: 1.1764 - val_accuracy: 0.5694 - val_precision_m: 1.4761\n",
            "Epoch 3/15\n",
            "324/324 [==============================] - 325s 1s/step - loss: 1.0160 - accuracy: 0.6245 - precision_m: 1.4653 - val_loss: 1.0982 - val_accuracy: 0.6051 - val_precision_m: 1.4937\n",
            "Epoch 4/15\n",
            "324/324 [==============================] - 325s 1s/step - loss: 0.9951 - accuracy: 0.6312 - precision_m: 1.4537 - val_loss: 1.1306 - val_accuracy: 0.5891 - val_precision_m: 1.4604\n",
            "Epoch 5/15\n",
            "324/324 [==============================] - 321s 991ms/step - loss: 1.0137 - accuracy: 0.6252 - precision_m: 1.4531 - val_loss: 1.1602 - val_accuracy: 0.5739 - val_precision_m: 1.4287\n",
            "Epoch 6/15\n",
            "324/324 [==============================] - 323s 997ms/step - loss: 0.9929 - accuracy: 0.6367 - precision_m: 1.4703 - val_loss: 1.1029 - val_accuracy: 0.6038 - val_precision_m: 1.4974\n",
            "Epoch 7/15\n",
            "324/324 [==============================] - 326s 1s/step - loss: 0.9821 - accuracy: 0.6362 - precision_m: 1.4416 - val_loss: 1.1101 - val_accuracy: 0.5954 - val_precision_m: 1.4181\n",
            "Epoch 8/15\n",
            "324/324 [==============================] - 322s 995ms/step - loss: 0.9999 - accuracy: 0.6275 - precision_m: 1.4483 - val_loss: 1.1124 - val_accuracy: 0.5927 - val_precision_m: 1.4945\n",
            "Epoch 9/15\n",
            "324/324 [==============================] - 321s 990ms/step - loss: 0.9931 - accuracy: 0.6317 - precision_m: 1.4578 - val_loss: 1.1163 - val_accuracy: 0.6024 - val_precision_m: 1.4975\n",
            "Epoch 10/15\n",
            "324/324 [==============================] - 321s 991ms/step - loss: 0.9818 - accuracy: 0.6335 - precision_m: 1.4453 - val_loss: 1.1536 - val_accuracy: 0.5732 - val_precision_m: 1.4649\n",
            "Epoch 11/15\n",
            "324/324 [==============================] - 320s 988ms/step - loss: 0.9844 - accuracy: 0.6348 - precision_m: 1.4371 - val_loss: 1.1722 - val_accuracy: 0.5818 - val_precision_m: 1.4774\n",
            "Epoch 12/15\n",
            "324/324 [==============================] - 321s 990ms/step - loss: 0.9801 - accuracy: 0.6362 - precision_m: 1.4333 - val_loss: 1.1198 - val_accuracy: 0.5936 - val_precision_m: 1.4553\n",
            "Epoch 13/15\n",
            "324/324 [==============================] - 321s 991ms/step - loss: 0.9784 - accuracy: 0.6400 - precision_m: 1.4378 - val_loss: 1.1406 - val_accuracy: 0.5834 - val_precision_m: 1.4848\n",
            "Epoch 14/15\n",
            "324/324 [==============================] - 320s 989ms/step - loss: 0.9910 - accuracy: 0.6355 - precision_m: 1.4623 - val_loss: 1.1110 - val_accuracy: 0.6033 - val_precision_m: 1.4274\n",
            "Epoch 15/15\n",
            "324/324 [==============================] - 321s 992ms/step - loss: 0.9738 - accuracy: 0.6381 - precision_m: 1.4578 - val_loss: 1.0949 - val_accuracy: 0.6065 - val_precision_m: 1.4654\n"
          ],
          "name": "stdout"
        }
      ]
    },
    {
      "cell_type": "markdown",
      "metadata": {
        "id": "oIf6NaL41OA8"
      },
      "source": [
        "# Until 80th epochs : accuracy is 63.81%\n",
        "# 321s 992ms/step - loss: 0.9738 - accuracy: 0.6381 - precision_m: 1.4578 - val_loss: 1.0949 - val_accuracy: 0.6065 - val_precision_m: 1.4654"
      ]
    }
  ]
}